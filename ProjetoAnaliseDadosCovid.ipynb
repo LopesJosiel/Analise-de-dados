{
 "cells": [
  {
   "cell_type": "code",
   "execution_count": 11,
   "metadata": {},
   "outputs": [
    {
     "data": {
      "text/plain": [
       "'observando quantidade de linhas e colunas'"
      ]
     },
     "metadata": {},
     "output_type": "display_data"
    },
    {
     "data": {
      "text/plain": [
       "(3853648, 17)"
      ]
     },
     "metadata": {},
     "output_type": "display_data"
    },
    {
     "name": "stdout",
     "output_type": "stream",
     "text": [
      "populacaoMedia 81164.88300526926\n",
      "count    3.840002e+06\n",
      "mean     8.116488e+04\n",
      "std      9.057809e+05\n",
      "min      7.760000e+02\n",
      "25%      5.602000e+03\n",
      "50%      1.219500e+04\n",
      "75%      2.689900e+04\n",
      "max      4.628933e+07\n",
      "Name: estimated_population, dtype: float64\n"
     ]
    },
    {
     "data": {
      "text/plain": [
       "(3853648, 17)"
      ]
     },
     "metadata": {},
     "output_type": "display_data"
    },
    {
     "data": {
      "text/plain": [
       "'média de novos casos confirmados'"
      ]
     },
     "metadata": {},
     "output_type": "display_data"
    },
    {
     "data": {
      "text/plain": [
       "13.857163394269534"
      ]
     },
     "metadata": {},
     "output_type": "display_data"
    },
    {
     "name": "stdout",
     "output_type": "stream",
     "text": [
      "0.3307338916268429\n",
      "         new_confirmed  new_deaths state\n",
      "0                    3           0    AC\n",
      "1                    3           0    AC\n",
      "2                    0           0    AC\n",
      "3                    0           0    AC\n",
      "4                    1           0    AC\n",
      "...                ...         ...   ...\n",
      "3853643              0           0    TO\n",
      "3853644              0           0    TO\n",
      "3853645              0           0    TO\n",
      "3853646              0           0    TO\n",
      "3853647              0           0    TO\n",
      "\n",
      "[3853648 rows x 3 columns]\n"
     ]
    }
   ],
   "source": [
    "import pandas as pd #importação da bilibioteca pandas.\n",
    "import numpy as np\n",
    "df = pd.read_csv (\"C:/Users/UNB/Meu Drive/2023/Mentoria/Covid.csv\") #parte mais difícil, abrir um arquivo\n",
    "df1 = df.drop(columns=[\"city_ibge_code\"]) #apagando uma coluna que não tera utilidade para a análise desejada.\n",
    "display ('observando quantidade de linhas e colunas', df1.shape)\n",
    "#df2 = df1.groupby(\"state\").agg({df1: np.mean, \"state\": np.size})\n",
    "#display (df2)\n",
    "#Trata-se de uma base de dados bem extensa. Não se pode abrí-la ou manipulá-la por ferramentas comuns, como o excel.\n",
    "populacaoMedia = df1 ['estimated_population'].mean()\n",
    "print ('populacaoMedia', populacaoMedia)\n",
    "populacaoDescricaoEstatistica = df1 ['estimated_population'].describe () #descrição estatística da população sob estudo.\n",
    "print (populacaoDescricaoEstatistica)\n",
    "display (df1.shape)\n",
    "novos_confirmados = df1 ['new_confirmed'].mean (skipna=True) #skipna para retirar da média possíveis valores nulos ou preenchidos com NAN\n",
    "display ('média de novos casos confirmados', novos_confirmados) #média de novos casos confirmados\n",
    "novas_mortes = df1['new_deaths'].mean (skipna=True)\n",
    "print (novas_mortes)\n",
    "\n",
    "#Pegando agora todos os Estados da Federação que aparecem nessa base de dados\n",
    "estados = df1 [['new_confirmed','new_deaths','state']]\n",
    "print (estados)\n",
    "\n",
    "\n"
   ]
  },
  {
   "cell_type": "code",
   "execution_count": 15,
   "metadata": {},
   "outputs": [
    {
     "name": "stdout",
     "output_type": "stream",
     "text": [
      "None\n"
     ]
    }
   ],
   "source": [
    "#pegando agora cada estado, para depois pegar por região\n",
    "# agrupando por estado e pegando novas mortes e novos casos confirmados\n",
    "#display (df1.head ())\n",
    "tabela1 = df1 [['state','new_confirmed','new_deaths']].groupby ('state').sum () # pegando as somas das colunas para cada estado\n",
    "#display (tabela1)\n",
    "# inserindo a tabela regiões\n",
    "import matplotlib.pyplot as plt #importação do matplotlib\n",
    "#tabela1.plot ()\n",
    "tabela2 = tabela1. insert (2, 'regiões', ['norte','nordeste','norte','norte','nordeste','nordeste','centro-oeste','centro-oeste','nordeste','sudeste','centro-oeste','centro-oeste','norte','nordeste','nordeste','nordeste','sul','sudeste', 'nordeste', 'norte', 'norte', 'sul', 'sul', 'nordeste','sudeste', 'norte',True ])\n",
    "#display (tabela1.describe())\n",
    "print (tabela2)\n",
    "\n"
   ]
  }
 ],
 "metadata": {
  "kernelspec": {
   "display_name": "base",
   "language": "python",
   "name": "python3"
  },
  "language_info": {
   "codemirror_mode": {
    "name": "ipython",
    "version": 3
   },
   "file_extension": ".py",
   "mimetype": "text/x-python",
   "name": "python",
   "nbconvert_exporter": "python",
   "pygments_lexer": "ipython3",
   "version": "3.9.13"
  },
  "orig_nbformat": 4
 },
 "nbformat": 4,
 "nbformat_minor": 2
}
