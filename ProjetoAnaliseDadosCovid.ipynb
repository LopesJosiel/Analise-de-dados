{
 "cells": [
  {
   "cell_type": "code",
   "execution_count": 5,
   "metadata": {},
   "outputs": [
    {
     "name": "stdout",
     "output_type": "stream",
     "text": [
      "81164.88300526926\n",
      "count    3.840002e+06\n",
      "mean     8.116488e+04\n",
      "std      9.057809e+05\n",
      "min      7.760000e+02\n",
      "25%      5.602000e+03\n",
      "50%      1.219500e+04\n",
      "75%      2.689900e+04\n",
      "max      4.628933e+07\n",
      "Name: estimated_population, dtype: float64\n"
     ]
    },
    {
     "data": {
      "text/plain": [
       "13.857163394269534"
      ]
     },
     "metadata": {},
     "output_type": "display_data"
    }
   ],
   "source": [
    "import pandas as pd #importação da bilibioteca pandas, além disso já instalei antes o pandas\n",
    "import numpy as np\n",
    "df = pd.read_csv (\"C:/Users/UNB/Meu Drive/2023/Mentoria/Covid.csv\") #parte mais difícil, abrir um arquivo\n",
    "df1 = df.drop(columns=[\"city_ibge_code\"]) #apagando uma coluna que não tera utilidade para a análise desejada.\n",
    "#display (df1)\n",
    "#df2 = df1.groupby(\"state\").agg({df1: np.mean, \"state\": np.size})\n",
    "#display (df2)\n",
    "#Trata-se de uma base de dados bem extensa. Não se pode abrí-la ou manipulá-la por ferramentas comuns, como o excel.\n",
    "populacaoMedia = df1 ['estimated_population'].mean()\n",
    "print (populacaoMedia)\n",
    "populacaoDescricaoEstatistica = df1 ['estimated_population'].describe () #descrição estatística da população sob estudo.\n",
    "print (populacaoDescricaoEstatistica)\n",
    "#display (df1.head(10))\n",
    "novos_confirmados = df1 ['new_confirmed'].mean (skipna=True)\n",
    "display (novos_confirmados) #média de novos casos confirmados"
   ]
  }
 ],
 "metadata": {
  "kernelspec": {
   "display_name": "base",
   "language": "python",
   "name": "python3"
  },
  "language_info": {
   "codemirror_mode": {
    "name": "ipython",
    "version": 3
   },
   "file_extension": ".py",
   "mimetype": "text/x-python",
   "name": "python",
   "nbconvert_exporter": "python",
   "pygments_lexer": "ipython3",
   "version": "3.9.13"
  },
  "orig_nbformat": 4
 },
 "nbformat": 4,
 "nbformat_minor": 2
}
