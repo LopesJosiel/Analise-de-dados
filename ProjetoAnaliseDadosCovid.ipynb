{
 "cells": [
  {
   "cell_type": "code",
   "execution_count": null,
   "metadata": {},
   "outputs": [],
   "source": [
    "import pandas as pd #importação da bilibioteca pandas.\n",
    "import numpy as np\n",
    "df = pd.read_csv (\"C:/Users/UNB/Meu Drive/2023/Mentoria/Covid.csv\") #parte mais difícil, abrir um arquivo\n",
    "df1 = df.drop(columns=[\"city_ibge_code\"]) #apagando uma coluna que não tera utilidade para a análise desejada.\n",
    "display ('observando quantidade de linhas e colunas', df1.shape)\n",
    "#df2 = df1.groupby(\"state\").agg({df1: np.mean, \"state\": np.size})\n",
    "#display (df2)\n",
    "#Trata-se de uma base de dados bem extensa. Não se pode abrí-la ou manipulá-la por ferramentas comuns, como o excel.\n",
    "populacaoMedia = df1 ['estimated_population'].mean()\n",
    "print ('populacaoMedia', populacaoMedia)\n",
    "populacaoDescricaoEstatistica = df1 ['estimated_population'].describe () #descrição estatística da população sob estudo.\n",
    "print (populacaoDescricaoEstatistica)\n",
    "#display (df1)\n",
    "novos_confirmados = df1 ['new_confirmed'].mean (skipna=True) #skipna para retirar da média possíveis valores nulos ou preenchidos com NAN\n",
    "display ('média de novos casos confirmados', novos_confirmados) #média de novos casos confirmados\n",
    "novas_mortes = df1['new_deaths'].mean (skipna=True)\n",
    "print (novas_mortes)\n",
    "\n",
    "#Pegando agora todos os Estados da Federação que aparecem nessa base de dados\n",
    "estados = df1 [['new_confirmed','new_deaths','state']]\n",
    "print (estados)\n",
    "\n",
    "\n"
   ]
  },
  {
   "cell_type": "code",
   "execution_count": null,
   "metadata": {},
   "outputs": [],
   "source": [
    "#pegando agora cada estado, para depois pegar por região\n",
    "# agrupando por estado e pegando novas mortes e novos casos confirmados\n",
    "#display (df1.head ())\n",
    "tabela1 = df1 [['state','new_confirmed','new_deaths', 'estimated_population']].groupby ('state').sum () # pegando as somas das colunas para cada estado\n",
    "display (tabela1)\n",
    "display (tabela1.describe())\n"
   ]
  }
 ],
 "metadata": {
  "kernelspec": {
   "display_name": "base",
   "language": "python",
   "name": "python3"
  },
  "language_info": {
   "codemirror_mode": {
    "name": "ipython",
    "version": 3
   },
   "file_extension": ".py",
   "mimetype": "text/x-python",
   "name": "python",
   "nbconvert_exporter": "python",
   "pygments_lexer": "ipython3",
   "version": "3.9.13"
  },
  "orig_nbformat": 4
 },
 "nbformat": 4,
 "nbformat_minor": 2
}
